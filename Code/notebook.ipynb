{
 "cells": [
  {
   "cell_type": "code",
   "execution_count": 1,
   "metadata": {},
   "outputs": [],
   "source": [
    "import pandas as pd\n",
    "import numpy as np \n",
    "import matplotlib.pyplot as plt\n",
    "import seaborn as sns\n",
    "from scipy.stats import chi2_contingency, ks_2samp"
   ]
  },
  {
   "cell_type": "code",
   "execution_count": 2,
   "metadata": {},
   "outputs": [],
   "source": [
    "dataset = pd.read_csv('https://raw.githubusercontent.com/Doll03/4IZ480/main/Data/TimeDeposit_10K.csv', sep=\";\")\n"
   ]
  },
  {
   "cell_type": "code",
   "execution_count": 3,
   "metadata": {},
   "outputs": [
    {
     "data": {
      "text/plain": [
       "F    9897\n",
       "T     103\n",
       "Name: Time_Deposits_Flag, dtype: int64"
      ]
     },
     "execution_count": 3,
     "metadata": {},
     "output_type": "execute_result"
    }
   ],
   "source": [
    "dataset.Time_Deposits_Flag.value_counts()\n"
   ]
  },
  {
   "cell_type": "code",
   "execution_count": 4,
   "metadata": {},
   "outputs": [],
   "source": [
    "dataset[\"Customer_ID\"] = dataset[\"Customer_ID\"].astype(\"object\")\n",
    "dataset[\"Birth_Date\"] = dataset[\"Birth_Date\"].astype(\"datetime64\")\n",
    "dataset[\"Ref_Date\"] = dataset[\"Ref_Date\"].astype(\"datetime64\")\n",
    "dataset[\"Gender\"] = [True if i == \"Male\" else False for i in dataset['Gender']]# 1=Male 0=Female\n",
    "dataset[\"Marital_Status\"] = dataset[\"Marital_Status\"].astype(\"category\")\n",
    "dataset[\"Children_Num\"] = dataset[\"Children_Num\"].astype(\"category\")\n",
    "dataset[\"Occupation_Category\"] = dataset[\"Occupation_Category\"].astype(\"category\")\n",
    "dataset[\"Payroll_Flag\"] = dataset[\"Payroll_Flag\"].astype(\"bool\")\n",
    "dataset[\"Business_Flag\"] = dataset[\"Business_Flag\"].astype(\"bool\")\n",
    "dataset[\"Saving_Current_Accounts_Flag\"] = dataset[\"Saving_Current_Accounts_Flag\"].astype(\"bool\")\n",
    "dataset[\"Investment_Products_Flag\"] = dataset[\"Investment_Products_Flag\"].astype(\"bool\")\n",
    "dataset[\"Insurance_Products_Flag\"] = dataset[\"Insurance_Products_Flag\"].astype(\"bool\")\n",
    "dataset[\"Business_Loans_Flag\"] = dataset[\"Business_Loans_Flag\"].astype(\"bool\")\n",
    "dataset[\"Housing_Loans_Flag\"] = dataset[\"Housing_Loans_Flag\"].astype(\"bool\")\n",
    "dataset[\"Consumer_Loans_Flag\"] = dataset[\"Consumer_Loans_Flag\"].astype(\"bool\")\n",
    "dataset[\"Credit_Cards_Flag\"] = dataset[\"Credit_Cards_Flag\"].astype(\"bool\")\n",
    "dataset[\"Time_Deposits_Flag\"] = [True if i == \"T\" else False for i in dataset['Time_Deposits_Flag']]\n",
    "\n"
   ]
  },
  {
   "cell_type": "code",
   "execution_count": 5,
   "metadata": {},
   "outputs": [
    {
     "data": {
      "text/plain": [
       "False    9897\n",
       "True      103\n",
       "Name: Time_Deposits_Flag, dtype: int64"
      ]
     },
     "execution_count": 5,
     "metadata": {},
     "output_type": "execute_result"
    }
   ],
   "source": [
    "dataset.Time_Deposits_Flag.value_counts()\n"
   ]
  },
  {
   "cell_type": "code",
   "execution_count": 6,
   "metadata": {},
   "outputs": [],
   "source": [
    "#Creating boolean variables \n",
    "dataset[\"Credit_Cards_Installments_Flag\"] = [True if i > 0 else False for i in dataset['Credit_Cards_Installments']]\n",
    "dataset[\"Credit_Cards_Payments_Flag\"] = [True if i > 0 else False for i in dataset['Credit_Cards_Payments_Num']]\n",
    "dataset[\"Credit_Cards_Purchases_Flag\"] = [True if i > 0 else False for i in dataset['Credit_Cards_Purchases_Num']]\n",
    "dataset[\"Credit_Cards_Witrhdrawals_Flag\"] = [True if i > 0 else False for i in dataset['Credit_Cards_Witrhdrawals_Num']]\n",
    "dataset[\"Internet_Trans_Flag\"] = [True if i > 0 else False for i in dataset['Internet_Trans_Num']]\n",
    "dataset[\"Deposit_Trans_Flag\"] = [True if i > 0 else False for i in dataset['Deposit_Trans_Num']]\n",
    "dataset[\"Payment_Trans_Flag\"] = [True if i > 0 else False for i in dataset['Payment_Trans_Num']]\n",
    "dataset[\"Transfer_Trans_Flag\"] = [True if i > 0 else False for i in dataset['Transfer_Trans_Num']]\n",
    "dataset[\"Withdrawl_Trans_Flag\"] = [True if i > 0 else False for i in dataset['Withdrawl_Trans_Num']]"
   ]
  },
  {
   "cell_type": "code",
   "execution_count": 7,
   "metadata": {},
   "outputs": [
    {
     "data": {
      "text/plain": [
       "0       LowerMid\n",
       "1       LowerMid\n",
       "2       UpperMid\n",
       "3       UpperMid\n",
       "4       LowerMid\n",
       "          ...   \n",
       "9995     Younger\n",
       "9996    LowerMid\n",
       "9997    LowerMid\n",
       "9998    LowerMid\n",
       "9999     Younger\n",
       "Name: Age, Length: 10000, dtype: category\n",
       "Categories (4, object): ['Younger' < 'LowerMid' < 'UpperMid' < 'Older']"
      ]
     },
     "execution_count": 7,
     "metadata": {},
     "output_type": "execute_result"
    }
   ],
   "source": [
    "#Creating variable Age_Cat\n",
    "dataset['Age'] = dataset['Ref_Date'].dt.year - dataset['Birth_Date'].dt.year\n",
    "Age_Cat = pd.cut(dataset['Age'], bins=[0, 32.50, 51.50, 60.50, 150],labels=['Younger', 'LowerMid', 'UpperMid', 'Older'])\n",
    "Age_Cat"
   ]
  },
  {
   "cell_type": "code",
   "execution_count": 8,
   "metadata": {},
   "outputs": [
    {
     "name": "stdout",
     "output_type": "stream",
     "text": [
      "<class 'pandas.core.frame.DataFrame'>\n",
      "RangeIndex: 10000 entries, 0 to 9999\n",
      "Data columns (total 56 columns):\n",
      " #   Column                            Non-Null Count  Dtype         \n",
      "---  ------                            --------------  -----         \n",
      " 0   Customer_ID                       10000 non-null  object        \n",
      " 1   Gender                            10000 non-null  bool          \n",
      " 2   Birth_Date                        10000 non-null  datetime64[ns]\n",
      " 3   Ref_Date                          10000 non-null  datetime64[ns]\n",
      " 4   Marital_Status                    10000 non-null  category      \n",
      " 5   Children_Num                      10000 non-null  category      \n",
      " 6   Occupation_Category               10000 non-null  category      \n",
      " 7   Total_Income                      10000 non-null  float64       \n",
      " 8   Payroll_Flag                      10000 non-null  bool          \n",
      " 9   Business_Flag                     10000 non-null  bool          \n",
      " 10  Saving_Current_Accounts_Flag      10000 non-null  bool          \n",
      " 11  Investment_Products_Flag          10000 non-null  bool          \n",
      " 12  Insurance_Products_Flag           10000 non-null  bool          \n",
      " 13  Business_Loans_Flag               10000 non-null  bool          \n",
      " 14  Housing_Loans_Flag                10000 non-null  bool          \n",
      " 15  Consumer_Loans_Flag               10000 non-null  bool          \n",
      " 16  Credit_Cards_Flag                 10000 non-null  bool          \n",
      " 17  Saving_Current_Balance            10000 non-null  float64       \n",
      " 18  Investment_Products_Balance       10000 non-null  float64       \n",
      " 19  Insurance_Balances                10000 non-null  float64       \n",
      " 20  Business_Loans_Balance            10000 non-null  float64       \n",
      " 21  Housing_Loans_Balance             10000 non-null  float64       \n",
      " 22  Consumer_Loans_Balance            10000 non-null  float64       \n",
      " 23  Credit_Cards_Balance              10000 non-null  float64       \n",
      " 24  Branch_Trans_Num                  10000 non-null  float64       \n",
      " 25  ATM_Trans_Num                     10000 non-null  float64       \n",
      " 26  APS_Trans_Num                     10000 non-null  float64       \n",
      " 27  Phone_Trans_Num                   10000 non-null  float64       \n",
      " 28  Internet_Trans_Num                10000 non-null  float64       \n",
      " 29  Deposit_Trans_Num                 10000 non-null  float64       \n",
      " 30  Withdrawl_Trans_Num               10000 non-null  float64       \n",
      " 31  Payment_Trans_Num                 10000 non-null  float64       \n",
      " 32  Transfer_Trans_Num                10000 non-null  float64       \n",
      " 33  Deposit_Trans_Amount              10000 non-null  float64       \n",
      " 34  Withdrawl_Trans_Amount            10000 non-null  float64       \n",
      " 35  Payment_Trans_Amount              10000 non-null  float64       \n",
      " 36  Transfer_Trans_Amount             10000 non-null  float64       \n",
      " 37  Credit_Cards_Installments         10000 non-null  float64       \n",
      " 38  Credit_Cards_Payments_Num         10000 non-null  float64       \n",
      " 39  Credit_Cards_Purchases_Num        10000 non-null  float64       \n",
      " 40  Credit_Cards_Witrhdrawals_Num     10000 non-null  float64       \n",
      " 41  Credit_Cards_Payments_Amount      10000 non-null  float64       \n",
      " 42  Credit_Cards_Purchases_Amount     10000 non-null  float64       \n",
      " 43  Credit_Cards_Witrhdrawals_Amount  10000 non-null  float64       \n",
      " 44  Arrears_Months_Max                10000 non-null  float64       \n",
      " 45  Time_Deposits_Flag                10000 non-null  bool          \n",
      " 46  Credit_Cards_Installments_Flag    10000 non-null  bool          \n",
      " 47  Credit_Cards_Payments_Flag        10000 non-null  bool          \n",
      " 48  Credit_Cards_Purchases_Flag       10000 non-null  bool          \n",
      " 49  Credit_Cards_Witrhdrawals_Flag    10000 non-null  bool          \n",
      " 50  Internet_Trans_Flag               10000 non-null  bool          \n",
      " 51  Deposit_Trans_Flag                10000 non-null  bool          \n",
      " 52  Payment_Trans_Flag                10000 non-null  bool          \n",
      " 53  Transfer_Trans_Flag               10000 non-null  bool          \n",
      " 54  Withdrawl_Trans_Flag              10000 non-null  bool          \n",
      " 55  Age                               10000 non-null  int64         \n",
      "dtypes: bool(20), category(3), datetime64[ns](2), float64(29), int64(1), object(1)\n",
      "memory usage: 2.7+ MB\n"
     ]
    }
   ],
   "source": [
    "dataset.info()"
   ]
  },
  {
   "cell_type": "code",
   "execution_count": 9,
   "metadata": {},
   "outputs": [],
   "source": [
    "dataset = dataset.drop([\"Ref_Date\",\"Birth_Date\",\"Customer_ID\",\"Age\" ], axis = \"columns\")"
   ]
  },
  {
   "cell_type": "code",
   "execution_count": 13,
   "metadata": {},
   "outputs": [
    {
     "name": "stdout",
     "output_type": "stream",
     "text": [
      "Num: ['Total_Income', 'Saving_Current_Balance', 'Investment_Products_Balance', 'Insurance_Balances', 'Business_Loans_Balance', 'Housing_Loans_Balance', 'Consumer_Loans_Balance', 'Credit_Cards_Balance', 'Branch_Trans_Num', 'ATM_Trans_Num', 'APS_Trans_Num', 'Phone_Trans_Num', 'Internet_Trans_Num', 'Deposit_Trans_Num', 'Withdrawl_Trans_Num', 'Payment_Trans_Num', 'Transfer_Trans_Num', 'Deposit_Trans_Amount', 'Withdrawl_Trans_Amount', 'Payment_Trans_Amount', 'Transfer_Trans_Amount', 'Credit_Cards_Installments', 'Credit_Cards_Payments_Num', 'Credit_Cards_Purchases_Num', 'Credit_Cards_Witrhdrawals_Num', 'Credit_Cards_Payments_Amount', 'Credit_Cards_Purchases_Amount', 'Credit_Cards_Witrhdrawals_Amount', 'Arrears_Months_Max'] end= Cat: ['Gender', 'Marital_Status', 'Children_Num', 'Occupation_Category', 'Payroll_Flag', 'Business_Flag', 'Saving_Current_Accounts_Flag', 'Investment_Products_Flag', 'Insurance_Products_Flag', 'Business_Loans_Flag', 'Housing_Loans_Flag', 'Consumer_Loans_Flag', 'Credit_Cards_Flag', 'Credit_Cards_Installments_Flag', 'Credit_Cards_Payments_Flag', 'Credit_Cards_Purchases_Flag', 'Credit_Cards_Witrhdrawals_Flag', 'Internet_Trans_Flag', 'Deposit_Trans_Flag', 'Payment_Trans_Flag', 'Transfer_Trans_Flag', 'Withdrawl_Trans_Flag']\n"
     ]
    }
   ],
   "source": [
    "#crealing list of categorical variables\n",
    "cat_v_list = [i for i in list(dataset.columns) if (dataset[i].dtypes in ['O', 'bool', \"category\"])]\n",
    "cat_v_list.remove('Time_Deposits_Flag')\n",
    "\n",
    "#creating list of numerical variables\n",
    "num_v_list = [i for i in list(dataset.columns) if i not in cat_v_list]\n",
    "num_v_list.remove('Time_Deposits_Flag')\n",
    "print(\"Num:\", num_v_list, \"end=\", \"Cat:\", cat_v_list)\n"
   ]
  },
  {
   "cell_type": "code",
   "execution_count": 11,
   "metadata": {},
   "outputs": [
    {
     "ename": "ValueError",
     "evalue": "If using all scalar values, you must pass an index",
     "output_type": "error",
     "traceback": [
      "\u001b[1;31m---------------------------------------------------------------------------\u001b[0m",
      "\u001b[1;31mValueError\u001b[0m                                Traceback (most recent call last)",
      "\u001b[1;32mc:\\Users\\user\\Desktop\\4IZ480\\Code\\notebook.ipynb Buňka 11\u001b[0m in \u001b[0;36m<cell line: 3>\u001b[1;34m()\u001b[0m\n\u001b[0;32m      <a href='vscode-notebook-cell:/c%3A/Users/user/Desktop/4IZ480/Code/notebook.ipynb#X13sZmlsZQ%3D%3D?line=0'>1</a>\u001b[0m \u001b[39m#Creating a list and graphs for storing numerical features\u001b[39;00m\n\u001b[0;32m      <a href='vscode-notebook-cell:/c%3A/Users/user/Desktop/4IZ480/Code/notebook.ipynb#X13sZmlsZQ%3D%3D?line=1'>2</a>\u001b[0m \u001b[39m#num_v_list = list(dataset[[\"Total_Income\"]].columns)\u001b[39;00m\n\u001b[1;32m----> <a href='vscode-notebook-cell:/c%3A/Users/user/Desktop/4IZ480/Code/notebook.ipynb#X13sZmlsZQ%3D%3D?line=2'>3</a>\u001b[0m sns\u001b[39m.\u001b[39;49mkdeplot(x \u001b[39m=\u001b[39;49m dataset[num_v_list])\n\u001b[0;32m      <a href='vscode-notebook-cell:/c%3A/Users/user/Desktop/4IZ480/Code/notebook.ipynb#X13sZmlsZQ%3D%3D?line=3'>4</a>\u001b[0m plt\u001b[39m.\u001b[39mshow()\n",
      "File \u001b[1;32mc:\\Users\\user\\anaconda3\\envs\\IZ480\\lib\\site-packages\\seaborn\\distributions.py:1691\u001b[0m, in \u001b[0;36mkdeplot\u001b[1;34m(data, x, y, hue, weights, palette, hue_order, hue_norm, color, fill, multiple, common_norm, common_grid, cumulative, bw_method, bw_adjust, warn_singular, log_scale, levels, thresh, gridsize, cut, clip, legend, cbar, cbar_ax, cbar_kws, ax, **kwargs)\u001b[0m\n\u001b[0;32m   1687\u001b[0m levels \u001b[39m=\u001b[39m kwargs\u001b[39m.\u001b[39mpop(\u001b[39m\"\u001b[39m\u001b[39mn_levels\u001b[39m\u001b[39m\"\u001b[39m, levels)\n\u001b[0;32m   1689\u001b[0m \u001b[39m# - - - - - - - - - - - - - - - - - - - - - - - - - - - - - - - - - - - - #\u001b[39;00m\n\u001b[1;32m-> 1691\u001b[0m p \u001b[39m=\u001b[39m _DistributionPlotter(\n\u001b[0;32m   1692\u001b[0m     data\u001b[39m=\u001b[39;49mdata,\n\u001b[0;32m   1693\u001b[0m     variables\u001b[39m=\u001b[39;49m_DistributionPlotter\u001b[39m.\u001b[39;49mget_semantics(\u001b[39mlocals\u001b[39;49m()),\n\u001b[0;32m   1694\u001b[0m )\n\u001b[0;32m   1696\u001b[0m p\u001b[39m.\u001b[39mmap_hue(palette\u001b[39m=\u001b[39mpalette, order\u001b[39m=\u001b[39mhue_order, norm\u001b[39m=\u001b[39mhue_norm)\n\u001b[0;32m   1698\u001b[0m \u001b[39mif\u001b[39;00m ax \u001b[39mis\u001b[39;00m \u001b[39mNone\u001b[39;00m:\n",
      "File \u001b[1;32mc:\\Users\\user\\anaconda3\\envs\\IZ480\\lib\\site-packages\\seaborn\\distributions.py:112\u001b[0m, in \u001b[0;36m_DistributionPlotter.__init__\u001b[1;34m(self, data, variables)\u001b[0m\n\u001b[0;32m    106\u001b[0m \u001b[39mdef\u001b[39;00m \u001b[39m__init__\u001b[39m(\n\u001b[0;32m    107\u001b[0m     \u001b[39mself\u001b[39m,\n\u001b[0;32m    108\u001b[0m     data\u001b[39m=\u001b[39m\u001b[39mNone\u001b[39;00m,\n\u001b[0;32m    109\u001b[0m     variables\u001b[39m=\u001b[39m{},\n\u001b[0;32m    110\u001b[0m ):\n\u001b[1;32m--> 112\u001b[0m     \u001b[39msuper\u001b[39;49m()\u001b[39m.\u001b[39;49m\u001b[39m__init__\u001b[39;49m(data\u001b[39m=\u001b[39;49mdata, variables\u001b[39m=\u001b[39;49mvariables)\n",
      "File \u001b[1;32mc:\\Users\\user\\anaconda3\\envs\\IZ480\\lib\\site-packages\\seaborn\\_oldcore.py:640\u001b[0m, in \u001b[0;36mVectorPlotter.__init__\u001b[1;34m(self, data, variables)\u001b[0m\n\u001b[0;32m    635\u001b[0m \u001b[39m# var_ordered is relevant only for categorical axis variables, and may\u001b[39;00m\n\u001b[0;32m    636\u001b[0m \u001b[39m# be better handled by an internal axis information object that tracks\u001b[39;00m\n\u001b[0;32m    637\u001b[0m \u001b[39m# such information and is set up by the scale_* methods. The analogous\u001b[39;00m\n\u001b[0;32m    638\u001b[0m \u001b[39m# information for numeric axes would be information about log scales.\u001b[39;00m\n\u001b[0;32m    639\u001b[0m \u001b[39mself\u001b[39m\u001b[39m.\u001b[39m_var_ordered \u001b[39m=\u001b[39m {\u001b[39m\"\u001b[39m\u001b[39mx\u001b[39m\u001b[39m\"\u001b[39m: \u001b[39mFalse\u001b[39;00m, \u001b[39m\"\u001b[39m\u001b[39my\u001b[39m\u001b[39m\"\u001b[39m: \u001b[39mFalse\u001b[39;00m}  \u001b[39m# alt., used DefaultDict\u001b[39;00m\n\u001b[1;32m--> 640\u001b[0m \u001b[39mself\u001b[39;49m\u001b[39m.\u001b[39;49massign_variables(data, variables)\n\u001b[0;32m    642\u001b[0m \u001b[39mfor\u001b[39;00m var, \u001b[39mcls\u001b[39m \u001b[39min\u001b[39;00m \u001b[39mself\u001b[39m\u001b[39m.\u001b[39m_semantic_mappings\u001b[39m.\u001b[39mitems():\n\u001b[0;32m    643\u001b[0m \n\u001b[0;32m    644\u001b[0m     \u001b[39m# Create the mapping function\u001b[39;00m\n\u001b[0;32m    645\u001b[0m     map_func \u001b[39m=\u001b[39m partial(\u001b[39mcls\u001b[39m\u001b[39m.\u001b[39mmap, plotter\u001b[39m=\u001b[39m\u001b[39mself\u001b[39m)\n",
      "File \u001b[1;32mc:\\Users\\user\\anaconda3\\envs\\IZ480\\lib\\site-packages\\seaborn\\_oldcore.py:701\u001b[0m, in \u001b[0;36mVectorPlotter.assign_variables\u001b[1;34m(self, data, variables)\u001b[0m\n\u001b[0;32m    699\u001b[0m \u001b[39melse\u001b[39;00m:\n\u001b[0;32m    700\u001b[0m     \u001b[39mself\u001b[39m\u001b[39m.\u001b[39minput_format \u001b[39m=\u001b[39m \u001b[39m\"\u001b[39m\u001b[39mlong\u001b[39m\u001b[39m\"\u001b[39m\n\u001b[1;32m--> 701\u001b[0m     plot_data, variables \u001b[39m=\u001b[39m \u001b[39mself\u001b[39m\u001b[39m.\u001b[39m_assign_variables_longform(\n\u001b[0;32m    702\u001b[0m         data, \u001b[39m*\u001b[39m\u001b[39m*\u001b[39mvariables,\n\u001b[0;32m    703\u001b[0m     )\n\u001b[0;32m    705\u001b[0m \u001b[39mself\u001b[39m\u001b[39m.\u001b[39mplot_data \u001b[39m=\u001b[39m plot_data\n\u001b[0;32m    706\u001b[0m \u001b[39mself\u001b[39m\u001b[39m.\u001b[39mvariables \u001b[39m=\u001b[39m variables\n",
      "File \u001b[1;32mc:\\Users\\user\\anaconda3\\envs\\IZ480\\lib\\site-packages\\seaborn\\_oldcore.py:962\u001b[0m, in \u001b[0;36mVectorPlotter._assign_variables_longform\u001b[1;34m(self, data, **kwargs)\u001b[0m\n\u001b[0;32m    958\u001b[0m         variables[key] \u001b[39m=\u001b[39m \u001b[39mgetattr\u001b[39m(val, \u001b[39m\"\u001b[39m\u001b[39mname\u001b[39m\u001b[39m\"\u001b[39m, \u001b[39mNone\u001b[39;00m)\n\u001b[0;32m    960\u001b[0m \u001b[39m# Construct a tidy plot DataFrame. This will convert a number of\u001b[39;00m\n\u001b[0;32m    961\u001b[0m \u001b[39m# types automatically, aligning on index in case of pandas objects\u001b[39;00m\n\u001b[1;32m--> 962\u001b[0m plot_data \u001b[39m=\u001b[39m pd\u001b[39m.\u001b[39;49mDataFrame(plot_data)\n\u001b[0;32m    964\u001b[0m \u001b[39m# Reduce the variables dictionary to fields with valid data\u001b[39;00m\n\u001b[0;32m    965\u001b[0m variables \u001b[39m=\u001b[39m {\n\u001b[0;32m    966\u001b[0m     var: name\n\u001b[0;32m    967\u001b[0m     \u001b[39mfor\u001b[39;00m var, name \u001b[39min\u001b[39;00m variables\u001b[39m.\u001b[39mitems()\n\u001b[0;32m    968\u001b[0m     \u001b[39mif\u001b[39;00m plot_data[var]\u001b[39m.\u001b[39mnotnull()\u001b[39m.\u001b[39many()\n\u001b[0;32m    969\u001b[0m }\n",
      "File \u001b[1;32mc:\\Users\\user\\anaconda3\\envs\\IZ480\\lib\\site-packages\\pandas\\core\\frame.py:636\u001b[0m, in \u001b[0;36mDataFrame.__init__\u001b[1;34m(self, data, index, columns, dtype, copy)\u001b[0m\n\u001b[0;32m    630\u001b[0m     mgr \u001b[39m=\u001b[39m \u001b[39mself\u001b[39m\u001b[39m.\u001b[39m_init_mgr(\n\u001b[0;32m    631\u001b[0m         data, axes\u001b[39m=\u001b[39m{\u001b[39m\"\u001b[39m\u001b[39mindex\u001b[39m\u001b[39m\"\u001b[39m: index, \u001b[39m\"\u001b[39m\u001b[39mcolumns\u001b[39m\u001b[39m\"\u001b[39m: columns}, dtype\u001b[39m=\u001b[39mdtype, copy\u001b[39m=\u001b[39mcopy\n\u001b[0;32m    632\u001b[0m     )\n\u001b[0;32m    634\u001b[0m \u001b[39melif\u001b[39;00m \u001b[39misinstance\u001b[39m(data, \u001b[39mdict\u001b[39m):\n\u001b[0;32m    635\u001b[0m     \u001b[39m# GH#38939 de facto copy defaults to False only in non-dict cases\u001b[39;00m\n\u001b[1;32m--> 636\u001b[0m     mgr \u001b[39m=\u001b[39m dict_to_mgr(data, index, columns, dtype\u001b[39m=\u001b[39;49mdtype, copy\u001b[39m=\u001b[39;49mcopy, typ\u001b[39m=\u001b[39;49mmanager)\n\u001b[0;32m    637\u001b[0m \u001b[39melif\u001b[39;00m \u001b[39misinstance\u001b[39m(data, ma\u001b[39m.\u001b[39mMaskedArray):\n\u001b[0;32m    638\u001b[0m     \u001b[39mimport\u001b[39;00m \u001b[39mnumpy\u001b[39;00m\u001b[39m.\u001b[39;00m\u001b[39mma\u001b[39;00m\u001b[39m.\u001b[39;00m\u001b[39mmrecords\u001b[39;00m \u001b[39mas\u001b[39;00m \u001b[39mmrecords\u001b[39;00m\n",
      "File \u001b[1;32mc:\\Users\\user\\anaconda3\\envs\\IZ480\\lib\\site-packages\\pandas\\core\\internals\\construction.py:502\u001b[0m, in \u001b[0;36mdict_to_mgr\u001b[1;34m(data, index, columns, dtype, typ, copy)\u001b[0m\n\u001b[0;32m    494\u001b[0m     arrays \u001b[39m=\u001b[39m [\n\u001b[0;32m    495\u001b[0m         x\n\u001b[0;32m    496\u001b[0m         \u001b[39mif\u001b[39;00m \u001b[39mnot\u001b[39;00m \u001b[39mhasattr\u001b[39m(x, \u001b[39m\"\u001b[39m\u001b[39mdtype\u001b[39m\u001b[39m\"\u001b[39m) \u001b[39mor\u001b[39;00m \u001b[39mnot\u001b[39;00m \u001b[39misinstance\u001b[39m(x\u001b[39m.\u001b[39mdtype, ExtensionDtype)\n\u001b[0;32m    497\u001b[0m         \u001b[39melse\u001b[39;00m x\u001b[39m.\u001b[39mcopy()\n\u001b[0;32m    498\u001b[0m         \u001b[39mfor\u001b[39;00m x \u001b[39min\u001b[39;00m arrays\n\u001b[0;32m    499\u001b[0m     ]\n\u001b[0;32m    500\u001b[0m     \u001b[39m# TODO: can we get rid of the dt64tz special case above?\u001b[39;00m\n\u001b[1;32m--> 502\u001b[0m \u001b[39mreturn\u001b[39;00m arrays_to_mgr(arrays, columns, index, dtype\u001b[39m=\u001b[39;49mdtype, typ\u001b[39m=\u001b[39;49mtyp, consolidate\u001b[39m=\u001b[39;49mcopy)\n",
      "File \u001b[1;32mc:\\Users\\user\\anaconda3\\envs\\IZ480\\lib\\site-packages\\pandas\\core\\internals\\construction.py:120\u001b[0m, in \u001b[0;36marrays_to_mgr\u001b[1;34m(arrays, columns, index, dtype, verify_integrity, typ, consolidate)\u001b[0m\n\u001b[0;32m    117\u001b[0m \u001b[39mif\u001b[39;00m verify_integrity:\n\u001b[0;32m    118\u001b[0m     \u001b[39m# figure out the index, if necessary\u001b[39;00m\n\u001b[0;32m    119\u001b[0m     \u001b[39mif\u001b[39;00m index \u001b[39mis\u001b[39;00m \u001b[39mNone\u001b[39;00m:\n\u001b[1;32m--> 120\u001b[0m         index \u001b[39m=\u001b[39m _extract_index(arrays)\n\u001b[0;32m    121\u001b[0m     \u001b[39melse\u001b[39;00m:\n\u001b[0;32m    122\u001b[0m         index \u001b[39m=\u001b[39m ensure_index(index)\n",
      "File \u001b[1;32mc:\\Users\\user\\anaconda3\\envs\\IZ480\\lib\\site-packages\\pandas\\core\\internals\\construction.py:664\u001b[0m, in \u001b[0;36m_extract_index\u001b[1;34m(data)\u001b[0m\n\u001b[0;32m    661\u001b[0m         \u001b[39mraise\u001b[39;00m \u001b[39mValueError\u001b[39;00m(\u001b[39m\"\u001b[39m\u001b[39mPer-column arrays must each be 1-dimensional\u001b[39m\u001b[39m\"\u001b[39m)\n\u001b[0;32m    663\u001b[0m \u001b[39mif\u001b[39;00m \u001b[39mnot\u001b[39;00m indexes \u001b[39mand\u001b[39;00m \u001b[39mnot\u001b[39;00m raw_lengths:\n\u001b[1;32m--> 664\u001b[0m     \u001b[39mraise\u001b[39;00m \u001b[39mValueError\u001b[39;00m(\u001b[39m\"\u001b[39m\u001b[39mIf using all scalar values, you must pass an index\u001b[39m\u001b[39m\"\u001b[39m)\n\u001b[0;32m    666\u001b[0m \u001b[39melif\u001b[39;00m have_series:\n\u001b[0;32m    667\u001b[0m     index \u001b[39m=\u001b[39m union_indexes(indexes)\n",
      "\u001b[1;31mValueError\u001b[0m: If using all scalar values, you must pass an index"
     ]
    }
   ],
   "source": [
    "#Creating a list and graphs for storing numerical features\n",
    "#num_v_list = list(dataset[[\"Total_Income\"]].columns)\n",
    "sns.kdeplot(x = dataset[num_v_list])\n",
    "plt.show()\n"
   ]
  },
  {
   "cell_type": "code",
   "execution_count": null,
   "metadata": {},
   "outputs": [
    {
     "name": "stdout",
     "output_type": "stream",
     "text": [
      "['Gender', 'Marital_Status', 'Children_Num', 'Occupation_Category', 'Payroll_Flag', 'Business_Flag', 'Saving_Current_Accounts_Flag', 'Investment_Products_Flag', 'Insurance_Products_Flag', 'Business_Loans_Flag', 'Housing_Loans_Flag', 'Consumer_Loans_Flag', 'Credit_Cards_Flag', 'Saving_Current_Balance', 'Investment_Products_Balance', 'Insurance_Balances', 'Business_Loans_Balance', 'Housing_Loans_Balance', 'Consumer_Loans_Balance', 'Credit_Cards_Balance', 'Branch_Trans_Num', 'ATM_Trans_Num', 'APS_Trans_Num', 'Phone_Trans_Num', 'Internet_Trans_Num', 'Deposit_Trans_Num', 'Withdrawl_Trans_Num', 'Payment_Trans_Num', 'Transfer_Trans_Num', 'Deposit_Trans_Amount', 'Withdrawl_Trans_Amount', 'Payment_Trans_Amount', 'Transfer_Trans_Amount', 'Credit_Cards_Installments', 'Credit_Cards_Payments_Num', 'Credit_Cards_Purchases_Num', 'Credit_Cards_Witrhdrawals_Num', 'Credit_Cards_Payments_Amount', 'Credit_Cards_Purchases_Amount', 'Credit_Cards_Witrhdrawals_Amount', 'Arrears_Months_Max', 'Time_Deposits_Flag', 'Time_Deposits_Flag2', 'Credit_Cards_Installments_Flag', 'Credit_Cards_Payments_Flag', 'Credit_Cards_Purchases_Flag', 'Credit_Cards_Witrhdrawals_Flag', 'Internet_Trans_Flag', 'Deposit_Trans_Flag', 'Payment_Trans_Flag', 'Transfer_Trans_Flag', 'Withdrawl_Trans_Flag', 'Age']\n"
     ]
    }
   ],
   "source": [
    "#Creating a list and graphs for storing categorical features.\n",
    "#cat_v_list = [i for i in list(dataset.columns) if i not in num_v_list]\n",
    "\n"
   ]
  },
  {
   "cell_type": "code",
   "execution_count": null,
   "metadata": {},
   "outputs": [],
   "source": []
  },
  {
   "cell_type": "code",
   "execution_count": null,
   "metadata": {},
   "outputs": [
    {
     "name": "stdout",
     "output_type": "stream",
     "text": [
      "False    0.9897\n",
      "True     0.0103\n",
      "Name: Time_Deposits_Flag, dtype: float64\n"
     ]
    },
    {
     "data": {
      "text/plain": [
       "<seaborn.axisgrid.FacetGrid at 0x1502fe19f10>"
      ]
     },
     "execution_count": 50,
     "metadata": {},
     "output_type": "execute_result"
    }
   ],
   "source": [
    "\n",
    "print(dataset[\"Time_Deposits_Flag\"].value_counts(normalize=True))\n",
    "sns.catplot(data = dataset, x = \"Time_Deposits_Flag\", kind = \"count\", palette = \"ch:.79\")"
   ]
  },
  {
   "cell_type": "code",
   "execution_count": null,
   "metadata": {},
   "outputs": [],
   "source": []
  }
 ],
 "metadata": {
  "kernelspec": {
   "display_name": "Python 3.9.13 ('IZ480')",
   "language": "python",
   "name": "python3"
  },
  "language_info": {
   "codemirror_mode": {
    "name": "ipython",
    "version": 3
   },
   "file_extension": ".py",
   "mimetype": "text/x-python",
   "name": "python",
   "nbconvert_exporter": "python",
   "pygments_lexer": "ipython3",
   "version": "3.9.13"
  },
  "orig_nbformat": 4,
  "vscode": {
   "interpreter": {
    "hash": "caccec0dedc42bb5e20a906c8d75c2f9d025e28b474400fdc2c9dd4b4a3f6f5f"
   }
  }
 },
 "nbformat": 4,
 "nbformat_minor": 2
}
