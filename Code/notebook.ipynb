{
 "cells": [
  {
   "cell_type": "code",
   "execution_count": 2,
   "metadata": {},
   "outputs": [],
   "source": [
    "import pandas as pd\n",
    "import numpy as np \n",
    "import matplotlib as plt\n",
    "import seaborn as sns\n",
    "from scipy.stats import chi2_contingency, ks_2samp\n",
    "#test ado"
   ]
  },
  {
   "cell_type": "code",
   "execution_count": 3,
   "metadata": {},
   "outputs": [],
   "source": [
    "dataset = pd.read_csv('https://raw.githubusercontent.com/Doll03/4IZ480/main/Data/TimeDeposit_10K.csv', sep=\";\")"
   ]
  },
  {
   "cell_type": "code",
   "execution_count": 4,
   "metadata": {},
   "outputs": [
    {
     "data": {
      "text/plain": [
       "F    9897\n",
       "T     103\n",
       "Name: Time_Deposits_Flag, dtype: int64"
      ]
     },
     "execution_count": 4,
     "metadata": {},
     "output_type": "execute_result"
    }
   ],
   "source": [
    "dataset.Time_Deposits_Flag.value_counts()\n"
   ]
  },
  {
   "cell_type": "code",
   "execution_count": 5,
   "metadata": {},
   "outputs": [],
   "source": [
    "dataset[\"Customer_ID\"] = dataset[\"Customer_ID\"].astype(\"object\")\n",
    "dataset[\"Birth_Date\"] = dataset[\"Birth_Date\"].astype(\"datetime64\")\n",
    "dataset[\"Ref_Date\"] = dataset[\"Ref_Date\"].astype(\"datetime64\")\n",
    "dataset[\"Gender\"] = dataset[\"Gender\"].astype(\"category\")\n",
    "dataset[\"Marital_Status\"] = dataset[\"Marital_Status\"].astype(\"category\")\n",
    "dataset[\"Children_Num\"] = dataset[\"Children_Num\"].astype(\"int64\")\n",
    "dataset[\"Occupation_Category\"] = dataset[\"Occupation_Category\"].astype(\"category\")\n",
    "dataset[\"Payroll_Flag\"] = dataset[\"Payroll_Flag\"].astype(\"bool\")\n",
    "dataset[\"Business_Flag\"] = dataset[\"Business_Flag\"].astype(\"bool\")\n",
    "dataset[\"Saving_Current_Accounts_Flag\"] = dataset[\"Saving_Current_Accounts_Flag\"].astype(\"bool\")\n",
    "dataset[\"Investment_Products_Flag\"] = dataset[\"Investment_Products_Flag\"].astype(\"bool\")\n",
    "dataset[\"Insurance_Products_Flag\"] = dataset[\"Insurance_Products_Flag\"].astype(\"bool\")\n",
    "dataset[\"Business_Loans_Flag\"] = dataset[\"Business_Loans_Flag\"].astype(\"bool\")\n",
    "dataset[\"Housing_Loans_Flag\"] = dataset[\"Housing_Loans_Flag\"].astype(\"bool\")\n",
    "dataset[\"Consumer_Loans_Flag\"] = dataset[\"Consumer_Loans_Flag\"].astype(\"bool\")\n",
    "dataset[\"Credit_Cards_Flag\"] = dataset[\"Credit_Cards_Flag\"].astype(\"bool\")\n",
    "dataset[\"Time_Deposits_Flag2\"] = [True if i == \"T\" else False for i in dataset['Time_Deposits_Flag']]\n",
    "dataset[\"Time_Deposits_Flag\"] = dataset[\"Time_Deposits_Flag2\"]\n"
   ]
  },
  {
   "cell_type": "code",
   "execution_count": 6,
   "metadata": {},
   "outputs": [
    {
     "data": {
      "text/plain": [
       "False    9897\n",
       "True      103\n",
       "Name: Time_Deposits_Flag2, dtype: int64"
      ]
     },
     "execution_count": 6,
     "metadata": {},
     "output_type": "execute_result"
    }
   ],
   "source": [
    "dataset.Time_Deposits_Flag2.value_counts()\n"
   ]
  },
  {
   "cell_type": "code",
   "execution_count": 7,
   "metadata": {},
   "outputs": [],
   "source": [
    "#Creating boolean variables \n",
    "dataset[\"Credit_Cards_Installments_Flag\"] = [True if i > 0 else False for i in dataset['Credit_Cards_Installments']]\n",
    "dataset[\"Credit_Cards_Payments_Flag\"] = [True if i > 0 else False for i in dataset['Credit_Cards_Payments_Num']]\n",
    "dataset[\"Credit_Cards_Purchases_Flag\"] = [True if i > 0 else False for i in dataset['Credit_Cards_Purchases_Num']]\n",
    "dataset[\"Credit_Cards_Witrhdrawals_Flag\"] = [True if i > 0 else False for i in dataset['Credit_Cards_Witrhdrawals_Num']]\n",
    "dataset[\"Internet_Trans_Flag\"] = [True if i > 0 else False for i in dataset['Internet_Trans_Num']]\n",
    "dataset[\"Deposit_Trans_Flag\"] = [True if i > 0 else False for i in dataset['Deposit_Trans_Num']]\n",
    "dataset[\"Payment_Trans_Flag\"] = [True if i > 0 else False for i in dataset['Payment_Trans_Num']]\n",
    "dataset[\"Transfer_Trans_Flag\"] = [True if i > 0 else False for i in dataset['Transfer_Trans_Num']]\n",
    "dataset[\"Withdrawl_Trans_Flag\"] = [True if i > 0 else False for i in dataset['Withdrawl_Trans_Num']]"
   ]
  },
  {
   "cell_type": "code",
   "execution_count": 9,
   "metadata": {},
   "outputs": [
    {
     "name": "stdout",
     "output_type": "stream",
     "text": [
      "['Payroll_Flag', 'Business_Flag', 'Saving_Current_Accounts_Flag', 'Investment_Products_Flag', 'Insurance_Products_Flag', 'Business_Loans_Flag', 'Housing_Loans_Flag', 'Consumer_Loans_Flag', 'Credit_Cards_Flag', 'Time_Deposits_Flag2', 'Credit_Cards_Installments_Flag', 'Credit_Cards_Payments_Flag', 'Credit_Cards_Purchases_Flag', 'Credit_Cards_Witrhdrawals_Flag', 'Internet_Trans_Flag', 'Deposit_Trans_Flag', 'Payment_Trans_Flag', 'Transfer_Trans_Flag', 'Withdrawl_Trans_Flag']\n"
     ]
    }
   ],
   "source": [
    "#Creating a list for storing categorical features.\n",
    "cat_v_list = [i for i in list (dataset.columns) if (dataset[i].dtypes in [\"o\", \"bool\"])]\n",
    "cat_v_list.remove(\"Time_Deposits_Flag\")\n",
    "print(cat_v_list)\n"
   ]
  },
  {
   "cell_type": "code",
   "execution_count": 10,
   "metadata": {},
   "outputs": [
    {
     "name": "stdout",
     "output_type": "stream",
     "text": [
      "['Customer_ID', 'Gender', 'Birth_Date', 'Ref_Date', 'Marital_Status', 'Children_Num', 'Occupation_Category', 'Total_Income', 'Saving_Current_Balance', 'Investment_Products_Balance', 'Insurance_Balances', 'Business_Loans_Balance', 'Housing_Loans_Balance', 'Consumer_Loans_Balance', 'Credit_Cards_Balance', 'Branch_Trans_Num', 'ATM_Trans_Num', 'APS_Trans_Num', 'Phone_Trans_Num', 'Internet_Trans_Num', 'Deposit_Trans_Num', 'Withdrawl_Trans_Num', 'Payment_Trans_Num', 'Transfer_Trans_Num', 'Deposit_Trans_Amount', 'Withdrawl_Trans_Amount', 'Payment_Trans_Amount', 'Transfer_Trans_Amount', 'Credit_Cards_Installments', 'Credit_Cards_Payments_Num', 'Credit_Cards_Purchases_Num', 'Credit_Cards_Witrhdrawals_Num', 'Credit_Cards_Payments_Amount', 'Credit_Cards_Purchases_Amount', 'Credit_Cards_Witrhdrawals_Amount', 'Arrears_Months_Max']\n"
     ]
    }
   ],
   "source": [
    "#Creating a list for storing numerical features\n",
    "\n",
    "num_v_list = [i for i in list(dataset.columns) if i not in cat_v_list]\n",
    "num_v_list.remove(\"Time_Deposits_Flag\")\n",
    "print(num_v_list)"
   ]
  },
  {
   "cell_type": "code",
   "execution_count": 73,
   "metadata": {},
   "outputs": [],
   "source": [
    "#Creating variable Age\n",
    "dataset['Age'] = dataset['Ref_Date'].dt.year - dataset['Birth_Date'].dt.year"
   ]
  },
  {
   "cell_type": "code",
   "execution_count": 74,
   "metadata": {},
   "outputs": [
    {
     "name": "stdout",
     "output_type": "stream",
     "text": [
      "False    0.9897\n",
      "True     0.0103\n",
      "Name: Time_Deposits_Flag, dtype: float64\n"
     ]
    },
    {
     "data": {
      "text/plain": [
       "<seaborn.axisgrid.FacetGrid at 0x20f09c4e190>"
      ]
     },
     "execution_count": 74,
     "metadata": {},
     "output_type": "execute_result"
    },
    {
     "data": {
      "image/png": "[encoded data removed]",
      "text/plain": [
       "<Figure size 500x500 with 1 Axes>"
      ]
     },
     "metadata": {},
     "output_type": "display_data"
    }
   ],
   "source": [
    "\n",
    "print(dataset[\"Time_Deposits_Flag\"].value_counts(normalize=True))\n",
    "sns.catplot(data = dataset, x = \"Time_Deposits_Flag\", kind = \"count\", palette = \"ch:.79\")"
   ]
  },
  {
   "cell_type": "code",
   "execution_count": null,
   "metadata": {},
   "outputs": [],
   "source": []
  }
 ],
 "metadata": {
  "kernelspec": {
   "display_name": "Python 3.9.13 ('base')",
   "language": "python",
   "name": "python3"
  },
  "language_info": {
   "codemirror_mode": {
    "name": "ipython",
    "version": 3
   },
   "file_extension": ".py",
   "mimetype": "text/x-python",
   "name": "python",
   "nbconvert_exporter": "python",
   "pygments_lexer": "ipython3",
   "version": "3.9.13"
  },
  "orig_nbformat": 4,
  "vscode": {
   "interpreter": {
    "hash": "20a9e06a1eee47c4abbed4ec8225ad91d78d9800d202b71b6b0a6e47016c6abd"
   }
  }
 },
 "nbformat": 4,
 "nbformat_minor": 2
}
